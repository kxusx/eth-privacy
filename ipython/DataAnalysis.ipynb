{
 "cells": [
  {
   "cell_type": "code",
   "execution_count": null,
   "metadata": {},
   "outputs": [],
   "source": [
    "%load_ext autoreload\n",
    "%autoreload 2"
   ]
  },
  {
   "cell_type": "code",
   "execution_count": null,
   "metadata": {},
   "outputs": [],
   "source": [
    "%matplotlib inline\n",
    "import matplotlib.pyplot as plt\n",
    "import seaborn as sns"
   ]
  },
  {
   "cell_type": "code",
   "execution_count": null,
   "metadata": {},
   "outputs": [],
   "source": [
    "sns.set(font_scale = 2)\n",
    "sns.set_style(\"whitegrid\")\n",
    "LW = 3\n",
    "MS = 10"
   ]
  },
  {
   "cell_type": "code",
   "execution_count": null,
   "metadata": {},
   "outputs": [],
   "source": [
    "import os\n",
    "import pandas as pd\n",
    "import numpy as np\n",
    "from tqdm import tqdm"
   ]
  },
  {
   "cell_type": "code",
   "execution_count": null,
   "metadata": {},
   "outputs": [],
   "source": [
    "from ethprivacy.entity_api import EntityAPI\n",
    "from ethprivacy.topic_analysis import *\n",
    "from ethprivacy.tornado_mixer import TornadoQueries"
   ]
  },
  {
   "cell_type": "code",
   "execution_count": null,
   "metadata": {},
   "outputs": [],
   "source": [
    "export_figs = True"
   ]
  },
  {
   "cell_type": "markdown",
   "metadata": {},
   "source": [
    "# 1.) Initialize EntityAPI"
   ]
  },
  {
   "cell_type": "code",
   "execution_count": null,
   "metadata": {},
   "outputs": [],
   "source": [
    "data_dir = \"../data/\"\n",
    "output_dir = \"../results/\""
   ]
  },
  {
   "cell_type": "code",
   "execution_count": null,
   "metadata": {},
   "outputs": [],
   "source": [
    "img_dir = \"%s/figs\" % output_dir\n",
    "if export_figs and not os.path.exists(img_dir):\n",
    "    os.makedirs(img_dir)"
   ]
  },
  {
   "cell_type": "code",
   "execution_count": null,
   "metadata": {},
   "outputs": [],
   "source": [
    "api_all = EntityAPI(data_dir, only_pos_tx=False)"
   ]
  },
  {
   "cell_type": "markdown",
   "metadata": {},
   "source": [
    "# 2.) Data check"
   ]
  },
  {
   "cell_type": "markdown",
   "metadata": {},
   "source": [
    "### Activity plots"
   ]
  },
  {
   "cell_type": "code",
   "execution_count": null,
   "metadata": {},
   "outputs": [],
   "source": [
    "df = api_all.events\n",
    "df[\"day\"] = (df[\"timeStamp\"] // 86400) * 86400\n",
    "df = df[df[\"day\"] > df[\"day\"].max()-86400*365]\n",
    "df[\"is_token\"] = df[\"tx_type\"] == \"token\""
   ]
  },
  {
   "cell_type": "code",
   "execution_count": null,
   "metadata": {},
   "outputs": [],
   "source": [
    "activity_df = df.groupby([\"day\",\"is_token\"])[\"hash\"].count().reset_index()\n",
    "activity_df = activity_df.rename({\"hash\":\"count\"}, axis=1)"
   ]
  },
  {
   "cell_type": "code",
   "execution_count": null,
   "metadata": {},
   "outputs": [],
   "source": [
    "g = sns.lineplot(data=activity_df, x=\"day\", y=\"count\", hue=\"is_token\")"
   ]
  },
  {
   "cell_type": "markdown",
   "metadata": {},
   "source": [
    "### Gas price"
   ]
  },
  {
   "cell_type": "code",
   "execution_count": null,
   "metadata": {},
   "outputs": [],
   "source": [
    "gas_price_df = df.groupby([\"day\"])[\"gasPrice\"].mean().reset_index()"
   ]
  },
  {
   "cell_type": "code",
   "execution_count": null,
   "metadata": {},
   "outputs": [],
   "source": [
    "g = sns.lineplot(data=gas_price_df, x=\"day\", y=\"gasPrice\")"
   ]
  },
  {
   "cell_type": "markdown",
   "metadata": {},
   "source": [
    "### Address statistics"
   ]
  },
  {
   "cell_type": "code",
   "execution_count": null,
   "metadata": {},
   "outputs": [],
   "source": [
    "print(\"Unique contract addresses\", len(api_all.events[\"contractAddress\"].unique()))"
   ]
  },
  {
   "cell_type": "code",
   "execution_count": null,
   "metadata": {},
   "outputs": [],
   "source": [
    "print(\"Unique addresses\", len(set(api_all.events[\"from\"]).union(set(api_all.events[\"to\"]))))\n",
    "print(\"Unique senders\", len(set(api_all.events[\"from\"])))\n",
    "print(\"Unique receivers\", len(set(api_all.events[\"to\"])))"
   ]
  },
  {
   "cell_type": "code",
   "execution_count": null,
   "metadata": {},
   "outputs": [],
   "source": [
    "sent_tx_cnt = dict(api_all.events[\"from\"].value_counts())"
   ]
  },
  {
   "cell_type": "markdown",
   "metadata": {},
   "source": [
    "### Addresses of interest"
   ]
  },
  {
   "cell_type": "code",
   "execution_count": null,
   "metadata": {},
   "outputs": [],
   "source": [
    "addresses, ens_addresses, tornado_addresses, humanity_dao_addresses = addresses_of_interest(api_all, with_tornado=True, with_hd=True)"
   ]
  },
  {
   "cell_type": "markdown",
   "metadata": {},
   "source": [
    "### Sent/received tx cnt for the 3 data source"
   ]
  },
  {
   "cell_type": "code",
   "execution_count": null,
   "metadata": {},
   "outputs": [],
   "source": [
    "df = api_all.events"
   ]
  },
  {
   "cell_type": "code",
   "execution_count": null,
   "metadata": {},
   "outputs": [],
   "source": [
    "num_sent_txs = df[\"from\"].value_counts()\n",
    "num_received_txs = df[\"to\"].value_counts()"
   ]
  },
  {
   "cell_type": "code",
   "execution_count": null,
   "metadata": {},
   "outputs": [],
   "source": [
    "records = []\n",
    "for set_name, addr_set in [(\"Twitter\",ens_addresses),(\"Tornado\",tornado_addresses),(\"Humanity-Dao\",humanity_dao_addresses)]:\n",
    "    keys = set(addr_set).intersection(num_sent_txs.index)\n",
    "    records.append([set_name, num_sent_txs.loc[keys].mean(), \"sent\"])\n",
    "    keys = set(addr_set).intersection(num_received_txs.index)\n",
    "    records.append([set_name, num_received_txs.loc[keys].mean(), \"received\"])\n",
    "mean_txs_cnt = pd.DataFrame(records, columns=[\"Source\",\"Average tx count\",\"Direction\"])"
   ]
  },
  {
   "cell_type": "code",
   "execution_count": null,
   "metadata": {},
   "outputs": [],
   "source": [
    "plt.figure(figsize=(8,6))\n",
    "g = sns.barplot(data=mean_txs_cnt, x=\"Source\", y=\"Average tx count\", hue=\"Direction\")\n",
    "if export_figs:\n",
    "    plt.savefig(\"%s/avg_txs.pdf\" % img_dir, format='pdf', bbox_inches='tight')"
   ]
  },
  {
   "cell_type": "markdown",
   "metadata": {},
   "source": [
    "### Number of addresses per ENS"
   ]
  },
  {
   "cell_type": "code",
   "execution_count": null,
   "metadata": {},
   "outputs": [],
   "source": [
    "cnt_map = dict(api_all.ens_pairs[\"name\"].value_counts().value_counts())\n",
    "more_map = cnt_map.copy()\n",
    "del more_map[1]\n",
    "del more_map[2]\n",
    "del more_map[3]\n",
    "del more_map[4]\n",
    "del more_map[5]"
   ]
  },
  {
   "cell_type": "code",
   "execution_count": null,
   "metadata": {},
   "outputs": [],
   "source": [
    "cols = ['1','2','3','4','5','more']\n",
    "vals = [cnt_map[1],cnt_map[2],cnt_map[3],cnt_map[4],cnt_map[5],sum(more_map.values())]\n",
    "plt.figure(figsize=(8,6))\n",
    "plt.bar(cols,vals,color=['b','g','b','b','b','b'])\n",
    "plt.yscale('log')\n",
    "plt.xlabel(\"Unique addresses per ENS name\")\n",
    "plt.ylabel(\"Number of ENS names\")\n",
    "plt.yticks([10,10**2])\n",
    "if export_figs:\n",
    "    plt.savefig(\"%s/addr_cnt_for_ens.pdf\" % img_dir, format='pdf', bbox_inches='tight')"
   ]
  },
  {
   "cell_type": "markdown",
   "metadata": {},
   "source": [
    "# 3. Tornado mixers"
   ]
  },
  {
   "cell_type": "code",
   "execution_count": null,
   "metadata": {},
   "outputs": [],
   "source": [
    "max_time = api_all.events[\"timeStamp\"].max()\n",
    "print(max_time)"
   ]
  },
  {
   "cell_type": "code",
   "execution_count": null,
   "metadata": {},
   "outputs": [],
   "source": [
    "tq0_1 = TornadoQueries(mixer_str_value=\"0.1\", max_time=max_time, data_folder=data_dir)\n",
    "tq1 = TornadoQueries(mixer_str_value=\"1\", max_time=max_time, data_folder=data_dir)\n",
    "tq10 = TornadoQueries(mixer_str_value=\"10\", max_time=max_time, data_folder=data_dir)\n",
    "tq100 = TornadoQueries(mixer_str_value=\"100\", max_time=max_time, data_folder=data_dir)"
   ]
  },
  {
   "cell_type": "code",
   "execution_count": null,
   "metadata": {},
   "outputs": [],
   "source": [
    "import matplotlib.dates as mdates"
   ]
  },
  {
   "cell_type": "code",
   "execution_count": null,
   "metadata": {},
   "outputs": [],
   "source": [
    "fig, ax = plt.subplots(figsize=(8,4))\n",
    "plt.title(\"Number of total deposits\")\n",
    "tq0_1.plot_num_deposits(show_heuristics=False, linew=LW, msize=MS)\n",
    "tq1.plot_num_deposits(show_heuristics=False, linew=LW, msize=MS)\n",
    "tq10.plot_num_deposits(show_heuristics=False, linew=LW, msize=MS)\n",
    "tq100.plot_num_deposits(show_heuristics=False, linew=LW, msize=MS)\n",
    "ax.xaxis.set_major_formatter(mdates.DateFormatter(\"%d %b\"))\n",
    "plt.legend(bbox_to_anchor=(1.02, 1.0))\n",
    "if export_figs:\n",
    "    plt.savefig(\"%s/tornado_active_deposits.pdf\" % img_dir, format='pdf', bbox_inches='tight')"
   ]
  },
  {
   "cell_type": "code",
   "execution_count": null,
   "metadata": {},
   "outputs": [],
   "source": [
    "fig, ax = plt.subplots(figsize=(8,4))\n",
    "plt.title(\"Heuristics\")\n",
    "tq0_1.plot_num_deposits(show_heuristics=True)\n",
    "tq1.plot_num_deposits(show_heuristics=True)\n",
    "tq10.plot_num_deposits(show_heuristics=True)\n",
    "tq100.plot_num_deposits(show_heuristics=True)\n",
    "ax.xaxis.set_major_formatter(mdates.DateFormatter(\"%d %b\"))\n",
    "plt.yscale(\"log\")\n",
    "plt.ylabel(\"Mixer value (ETH)\")\n",
    "plt.yticks([0.1,1.0,10.0,100.0])\n",
    "plt.legend(bbox_to_anchor=(1.02, 1.0))\n",
    "if export_figs:\n",
    "    plt.savefig(\"%s/tornado_heuristics.pdf\" % img_dir, format='pdf', bbox_inches='tight')"
   ]
  },
  {
   "cell_type": "markdown",
   "metadata": {},
   "source": [
    "# 4.) Topic Analysis"
   ]
  },
  {
   "cell_type": "code",
   "execution_count": null,
   "metadata": {},
   "outputs": [],
   "source": [
    "api = EntityAPI(data_dir, only_pos_tx=False, address_filter=\"ens\")"
   ]
  },
  {
   "cell_type": "markdown",
   "metadata": {},
   "source": [
    "## i.) Load topics"
   ]
  },
  {
   "cell_type": "code",
   "execution_count": null,
   "metadata": {},
   "outputs": [],
   "source": [
    "topic_for_addr, name_for_addr = load_address_topics(\"%s/labeledAddresses.json\" % data_dir)"
   ]
  },
  {
   "cell_type": "code",
   "execution_count": null,
   "metadata": {},
   "outputs": [],
   "source": [
    "selected_addresses = list(topic_for_addr.keys())"
   ]
  },
  {
   "cell_type": "markdown",
   "metadata": {},
   "source": [
    "## ii.) Find these addresses in our data"
   ]
  },
  {
   "cell_type": "code",
   "execution_count": null,
   "metadata": {},
   "outputs": [],
   "source": [
    "info_records = [api.address_info(addr) for addr in tqdm(selected_addresses)]\n",
    "selected_addr_info = pd.DataFrame(info_records)"
   ]
  },
  {
   "cell_type": "code",
   "execution_count": null,
   "metadata": {},
   "outputs": [],
   "source": [
    "selected_addr_info[\"topic\"] = selected_addr_info[\"address\"].apply(lambda x: topic_for_addr[x])\n",
    "selected_addr_info[\"name\"] = selected_addr_info[\"address\"].apply(lambda x: name_for_addr[x])"
   ]
  },
  {
   "cell_type": "code",
   "execution_count": null,
   "metadata": {},
   "outputs": [],
   "source": [
    "selected_addr_info[\"has_event\"] = selected_addr_info.apply(lambda x: x[\"is_contract\"] or x[\"normal_in\"] or x[\"normal_out\"] or x[\"token_in\"] or x[\"token_out\"], axis=1)"
   ]
  },
  {
   "cell_type": "code",
   "execution_count": null,
   "metadata": {},
   "outputs": [],
   "source": [
    "selected_addr_info[\"has_event\"].value_counts() / len(selected_addr_info)"
   ]
  },
  {
   "cell_type": "markdown",
   "metadata": {},
   "source": [
    "### Keep only addresses with events"
   ]
  },
  {
   "cell_type": "code",
   "execution_count": null,
   "metadata": {},
   "outputs": [],
   "source": [
    "selected_addr_info = selected_addr_info[selected_addr_info[\"has_event\"]]\n",
    "selected_addr_info.shape"
   ]
  },
  {
   "cell_type": "markdown",
   "metadata": {},
   "source": [
    "### Topic distribution for interacted addresses"
   ]
  },
  {
   "cell_type": "code",
   "execution_count": null,
   "metadata": {},
   "outputs": [],
   "source": [
    "selected_addr_info[\"topic\"].value_counts()"
   ]
  },
  {
   "cell_type": "code",
   "execution_count": null,
   "metadata": {},
   "outputs": [],
   "source": [
    "selected_addr_info"
   ]
  },
  {
   "cell_type": "markdown",
   "metadata": {},
   "source": [
    "## iii.) Discover address connections\n",
    "\n",
    "Find the set of ens names that were in contact with these interesting addresses"
   ]
  },
  {
   "cell_type": "code",
   "execution_count": null,
   "metadata": {},
   "outputs": [],
   "source": [
    "selected_addr_info[\"name\"] = selected_addr_info[\"name\"].replace({\"gemini1\":\"Gemini\",'EtherDelta 2':'EtherDelta','bittrex1':'Bittrex'})"
   ]
  },
  {
   "cell_type": "code",
   "execution_count": null,
   "metadata": {},
   "outputs": [],
   "source": [
    "inbound, outbound = get_in_out_ens_connections(api, selected_addr_info)"
   ]
  },
  {
   "cell_type": "markdown",
   "metadata": {},
   "source": [
    "### Merge a few services"
   ]
  },
  {
   "cell_type": "code",
   "execution_count": null,
   "metadata": {},
   "outputs": [],
   "source": [
    "sorted(selected_addr_info[selected_addr_info[\"topic\"]==\"Exchange\"][\"name\"].unique())"
   ]
  },
  {
   "cell_type": "code",
   "execution_count": null,
   "metadata": {},
   "outputs": [],
   "source": [
    "to_be_merged = {\n",
    "    \"Exchange\":{\n",
    "        \"Poloniex\":['Poloniex1','Poloniex4'],\n",
    "        \"Binance\":['binance2','binance3','binance4','binance5','binance6'],\n",
    "        \"Kraken\":['kraken1','kraken2','kraken4'],\n",
    "        \"Okex\":['okex1','okex2']\n",
    "    },\n",
    "    \"Gaming\":{\n",
    "        \"CryptoKitties\":['CryptoKitties','CryptoKitties String Auction','Cryptokitties Sales']\n",
    "    }\n",
    "}"
   ]
  },
  {
   "cell_type": "code",
   "execution_count": null,
   "metadata": {},
   "outputs": [],
   "source": [
    "for topic in to_be_merged:\n",
    "    topic_merges = to_be_merged[topic]\n",
    "    for key in topic_merges:\n",
    "        merged = set()\n",
    "        for ens_dict in [inbound, outbound]:\n",
    "            for val in topic_merges[key]:\n",
    "                merged = merged.union(ens_dict[topic][val])\n",
    "                del ens_dict[topic][val]\n",
    "            ens_dict[topic][key] = merged"
   ]
  },
  {
   "cell_type": "code",
   "execution_count": null,
   "metadata": {},
   "outputs": [],
   "source": [
    "num_uniq_ens = len(api.ens_pairs[\"name\"].unique())\n",
    "num_uniq_ens"
   ]
  },
  {
   "cell_type": "code",
   "execution_count": null,
   "metadata": {},
   "outputs": [],
   "source": [
    "total_for_names = calculate_ens_coverage(inbound, outbound, num_uniq_ens)\n",
    "total_for_topics = calculate_ens_coverage(inbound, outbound, num_uniq_ens, result_type=\"topic\")"
   ]
  },
  {
   "cell_type": "code",
   "execution_count": null,
   "metadata": {},
   "outputs": [],
   "source": [
    "total_for_topics[\"frac_order\"] = total_for_topics[\"frac\"].rank(ascending=False)\n",
    "total_for_names[\"frac_order\"] = total_for_names[\"frac\"].rank(ascending=False)\n",
    "total_for_names[\"name - topic\"] = total_for_names[[\"name\",\"topic\"]].apply(lambda x: str(x[\"name\"]) + \" - \" + str(x[\"topic\"]), axis=1)"
   ]
  },
  {
   "cell_type": "code",
   "execution_count": null,
   "metadata": {},
   "outputs": [],
   "source": [
    "num_uniq_ens, len(api.ens_pairs)"
   ]
  },
  {
   "cell_type": "markdown",
   "metadata": {},
   "source": [
    "## iv.) Visualize"
   ]
  },
  {
   "cell_type": "markdown",
   "metadata": {},
   "source": [
    "### a.) Topic statistics"
   ]
  },
  {
   "cell_type": "code",
   "execution_count": null,
   "metadata": {},
   "outputs": [],
   "source": [
    "df = total_for_topics.sort_values(\"frac_order\").reset_index().drop(0)\n",
    "fig, ax = plt.subplots(1,1,figsize=(8,15))\n",
    "g = sns.barplot(data=df, y=\"topic\",x=\"frac\", orient=\"h\", ax=ax)\n",
    "g.set(xlabel=\"Fraction of collected ENS names\")\n",
    "g.set(xlim=(0,df[\"frac\"].max()+0.05))\n",
    "g.set(xticks=np.arange(0,df[\"frac\"].max()+0.05,0.1))\n",
    "g.set(ylabel=\"Service category\")\n",
    "if export_figs:\n",
    "    plt.savefig(\"%s/ens_topic_distrib.pdf\" % img_dir, format='pdf', bbox_inches='tight')"
   ]
  },
  {
   "cell_type": "code",
   "execution_count": null,
   "metadata": {},
   "outputs": [],
   "source": [
    "for category in [\"StableCoins\",\"Platform\",\"Defi\",\"Exchange\",\"Gaming\",\"Collectibles\",\"Trading\"]:\n",
    "    df = total_for_names[total_for_names[\"topic\"]==category].sort_values(\"frac_order\").head(5)\n",
    "    fig, ax = plt.subplots(1,1,figsize=(8,len(df)))\n",
    "    plt.title(category)\n",
    "    g = sns.barplot(data=df, y=\"name\",x=\"frac\", orient=\"h\", ax=ax)\n",
    "    g.set(xlabel=\"Fraction of collected ENS names\")\n",
    "    g.set(ylabel=\"Service name\")\n",
    "    g.set(xlim=(0,df[\"frac\"].max()+0.05))\n",
    "    g.set(xticks=np.arange(0,df[\"frac\"].max()+0.05,0.1))\n",
    "    if export_figs:\n",
    "        plt.savefig(\"%s/ens_%s_distrib.pdf\" % (img_dir, category.lower()), format='pdf', bbox_inches='tight')"
   ]
  }
 ],
 "metadata": {
  "kernelspec": {
   "display_name": "Python [conda env:deeplearn-3_6] *",
   "language": "python",
   "name": "conda-env-deeplearn-3_6-py"
  },
  "language_info": {
   "codemirror_mode": {
    "name": "ipython",
    "version": 3
   },
   "file_extension": ".py",
   "mimetype": "text/x-python",
   "name": "python",
   "nbconvert_exporter": "python",
   "pygments_lexer": "ipython3",
   "version": "3.6.10"
  }
 },
 "nbformat": 4,
 "nbformat_minor": 4
}
